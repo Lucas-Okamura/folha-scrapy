{
 "cells": [
  {
   "attachments": {},
   "cell_type": "markdown",
   "metadata": {},
   "source": [
    "# Cleaning Folha Dataset"
   ]
  },
  {
   "cell_type": "code",
   "execution_count": 1,
   "metadata": {},
   "outputs": [
    {
     "name": "stderr",
     "output_type": "stream",
     "text": [
      "d:\\Anaconda\\envs\\folha-scrapy\\lib\\site-packages\\tqdm\\auto.py:21: TqdmWarning: IProgress not found. Please update jupyter and ipywidgets. See https://ipywidgets.readthedocs.io/en/stable/user_install.html\n",
      "  from .autonotebook import tqdm as notebook_tqdm\n"
     ]
    }
   ],
   "source": [
    "import pandas as pd\n",
    "import numpy as np\n",
    "import html\n",
    "import re\n",
    "from datasets import load_dataset\n",
    "from datasets import Dataset\n",
    "\n",
    "pd.set_option('display.max_rows', 120)"
   ]
  },
  {
   "attachments": {},
   "cell_type": "markdown",
   "metadata": {},
   "source": [
    "## 1. Load Dataset and Overview"
   ]
  },
  {
   "cell_type": "code",
   "execution_count": 2,
   "metadata": {},
   "outputs": [
    {
     "data": {
      "text/html": [
       "<div>\n",
       "<style scoped>\n",
       "    .dataframe tbody tr th:only-of-type {\n",
       "        vertical-align: middle;\n",
       "    }\n",
       "\n",
       "    .dataframe tbody tr th {\n",
       "        vertical-align: top;\n",
       "    }\n",
       "\n",
       "    .dataframe thead th {\n",
       "        text-align: right;\n",
       "    }\n",
       "</style>\n",
       "<table border=\"1\" class=\"dataframe\">\n",
       "  <thead>\n",
       "    <tr style=\"text-align: right;\">\n",
       "      <th></th>\n",
       "      <th>title</th>\n",
       "      <th>text</th>\n",
       "      <th>date</th>\n",
       "      <th>category</th>\n",
       "      <th>subcategory</th>\n",
       "      <th>link</th>\n",
       "    </tr>\n",
       "  </thead>\n",
       "  <tbody>\n",
       "    <tr>\n",
       "      <th>0</th>\n",
       "      <td>Lula diz que está 'lascado', mas que ainda tem...</td>\n",
       "      <td>Com a possibilidade de uma condenação impedir ...</td>\n",
       "      <td>2017-09-10</td>\n",
       "      <td>poder</td>\n",
       "      <td>NaN</td>\n",
       "      <td>http://www1.folha.uol.com.br/poder/2017/10/192...</td>\n",
       "    </tr>\n",
       "    <tr>\n",
       "      <th>1</th>\n",
       "      <td>'Decidi ser escrava das mulheres que sofrem', ...</td>\n",
       "      <td>Para Oumou Sangaré, cantora e ativista malines...</td>\n",
       "      <td>2017-09-10</td>\n",
       "      <td>ilustrada</td>\n",
       "      <td>NaN</td>\n",
       "      <td>http://www1.folha.uol.com.br/ilustrada/2017/10...</td>\n",
       "    </tr>\n",
       "    <tr>\n",
       "      <th>2</th>\n",
       "      <td>Três reportagens da Folha ganham Prêmio Petrob...</td>\n",
       "      <td>Três reportagens da Folha foram vencedoras do ...</td>\n",
       "      <td>2017-09-10</td>\n",
       "      <td>poder</td>\n",
       "      <td>NaN</td>\n",
       "      <td>http://www1.folha.uol.com.br/poder/2017/10/192...</td>\n",
       "    </tr>\n",
       "    <tr>\n",
       "      <th>3</th>\n",
       "      <td>Filme 'Star Wars: Os Últimos Jedi' ganha trail...</td>\n",
       "      <td>A Disney divulgou na noite desta segunda-feira...</td>\n",
       "      <td>2017-09-10</td>\n",
       "      <td>ilustrada</td>\n",
       "      <td>NaN</td>\n",
       "      <td>http://www1.folha.uol.com.br/ilustrada/2017/10...</td>\n",
       "    </tr>\n",
       "    <tr>\n",
       "      <th>4</th>\n",
       "      <td>CBSS inicia acordos com fintechs e quer 30% do...</td>\n",
       "      <td>O CBSS, banco da holding Elopar dos sócios Bra...</td>\n",
       "      <td>2017-09-10</td>\n",
       "      <td>mercado</td>\n",
       "      <td>NaN</td>\n",
       "      <td>http://www1.folha.uol.com.br/mercado/2017/10/1...</td>\n",
       "    </tr>\n",
       "  </tbody>\n",
       "</table>\n",
       "</div>"
      ],
      "text/plain": [
       "                                               title  \\\n",
       "0  Lula diz que está 'lascado', mas que ainda tem...   \n",
       "1  'Decidi ser escrava das mulheres que sofrem', ...   \n",
       "2  Três reportagens da Folha ganham Prêmio Petrob...   \n",
       "3  Filme 'Star Wars: Os Últimos Jedi' ganha trail...   \n",
       "4  CBSS inicia acordos com fintechs e quer 30% do...   \n",
       "\n",
       "                                                text        date   category  \\\n",
       "0  Com a possibilidade de uma condenação impedir ...  2017-09-10      poder   \n",
       "1  Para Oumou Sangaré, cantora e ativista malines...  2017-09-10  ilustrada   \n",
       "2  Três reportagens da Folha foram vencedoras do ...  2017-09-10      poder   \n",
       "3  A Disney divulgou na noite desta segunda-feira...  2017-09-10  ilustrada   \n",
       "4  O CBSS, banco da holding Elopar dos sócios Bra...  2017-09-10    mercado   \n",
       "\n",
       "  subcategory                                               link  \n",
       "0         NaN  http://www1.folha.uol.com.br/poder/2017/10/192...  \n",
       "1         NaN  http://www1.folha.uol.com.br/ilustrada/2017/10...  \n",
       "2         NaN  http://www1.folha.uol.com.br/poder/2017/10/192...  \n",
       "3         NaN  http://www1.folha.uol.com.br/ilustrada/2017/10...  \n",
       "4         NaN  http://www1.folha.uol.com.br/mercado/2017/10/1...  "
      ]
     },
     "execution_count": 2,
     "metadata": {},
     "output_type": "execute_result"
    }
   ],
   "source": [
    "dataset_filepath = \"../data/folha_2015_2023.zip\"\n",
    "folha = pd.read_csv(dataset_filepath)\n",
    "folha.head()"
   ]
  },
  {
   "cell_type": "code",
   "execution_count": 3,
   "metadata": {},
   "outputs": [
    {
     "name": "stdout",
     "output_type": "stream",
     "text": [
      "Rows: 532727\n",
      "Columns: 6\n"
     ]
    }
   ],
   "source": [
    "# number of rows and columns\n",
    "print(f\"Rows: {folha.shape[0]}\")\n",
    "print(f\"Columns: {folha.shape[1]}\")"
   ]
  },
  {
   "attachments": {},
   "cell_type": "markdown",
   "metadata": {},
   "source": [
    "## 2. Checking columns"
   ]
  },
  {
   "attachments": {},
   "cell_type": "markdown",
   "metadata": {},
   "source": [
    "### 2.1. title"
   ]
  },
  {
   "cell_type": "code",
   "execution_count": 4,
   "metadata": {},
   "outputs": [
    {
     "name": "stdout",
     "output_type": "stream",
     "text": [
      "NaN title rows: 0\n",
      "% NaN title rows: 0.0 %\n"
     ]
    }
   ],
   "source": [
    "# NaN titles\n",
    "print(f\"NaN title rows: {folha['title'].isna().sum()}\")\n",
    "print(f\"% NaN title rows: {folha['title'].isna().sum() / len(folha) * 100} %\")"
   ]
  },
  {
   "cell_type": "code",
   "execution_count": 5,
   "metadata": {},
   "outputs": [
    {
     "data": {
      "text/plain": [
       "43        \\n\\t\\tDa escola ao 1º emprego: como buscar um ...\n",
       "160       \\n\\t\\tComo diferenciar ruídos que indicam prob...\n",
       "163       \\n\\t\\tAdvogado explica as regras sobre venda d...\n",
       "165       \\n\\t\\tMoradores da zona oeste são os mais sati...\n",
       "171       \\n\\t\\tMoradores recuperam praça no Jardim das ...\n",
       "                                ...                        \n",
       "125343    Grécia inicia o pagamento de  6,25 bilhões ao ...\n",
       "126322    Comissão da UE propõe empréstimo de curto praz...\n",
       "145679    Moradores esperam por obras públicas  na 'Ilha...\n",
       "501558    Morcheeba retorna ao Brasil para  Nublu Jazz F...\n",
       "504758    ​    Para leitores, Carnaval de São Paulo sobr...\n",
       "Name: title, Length: 3931, dtype: object"
      ]
     },
     "execution_count": 5,
     "metadata": {},
     "output_type": "execute_result"
    }
   ],
   "source": [
    "# check for double spaces, tabs or line breaks\n",
    "cond = folha['title'].str.contains(r\"  +|\\t+|\\n+\")\n",
    "folha.loc[cond, 'title']"
   ]
  },
  {
   "cell_type": "code",
   "execution_count": 6,
   "metadata": {},
   "outputs": [
    {
     "data": {
      "text/plain": [
       "'\\u200b    Para leitores, Carnaval de São Paulo sobrepõe dinheiro ao bem-estar da população'"
      ]
     },
     "execution_count": 6,
     "metadata": {},
     "output_type": "execute_result"
    }
   ],
   "source": [
    "# check for double spaces, tabs or line breaks\n",
    "folha.loc[cond, 'title'].tail(1).values[0]"
   ]
  },
  {
   "attachments": {},
   "cell_type": "markdown",
   "metadata": {},
   "source": [
    "### 2.2. text"
   ]
  },
  {
   "cell_type": "code",
   "execution_count": 9,
   "metadata": {},
   "outputs": [
    {
     "name": "stdout",
     "output_type": "stream",
     "text": [
      "NaN text rows: 32009\n",
      "% NaN text rows: 6.008518434395103 %\n"
     ]
    }
   ],
   "source": [
    "# NaN text\n",
    "print(f\"NaN text rows: {folha['text'].isna().sum()}\")\n",
    "print(f\"% NaN text rows: {folha['text'].isna().sum() / len(folha) * 100} %\")"
   ]
  },
  {
   "cell_type": "code",
   "execution_count": 10,
   "metadata": {},
   "outputs": [
    {
     "data": {
      "text/plain": [
       "'Confira o que acontece no capítulo desta terça\\xa0(2) em \"Tempos de Amar\", novela de Alcides Nogueira:Em Morros Verdes, Maria Vitória (Vitória Strada) insiste para que Inácio (Bruno Cabrerizo) mantenha seus planos de ir para o Brasil. José Augusto (Tony Ramos) elogia Inácio. Inácio se despede de Maria Vitória.No Rio, Conselheiro (Werner Shünemann) termina o romance com Celeste Hermínia (Marisa Orth).\\xa0Passa-se mais um mês. Inácio chega ao Rio de Janeiro. Em Morros Verdes, Maria Vitória torce por notícias de Inácio.No Rio, Vicente\\xa0(Bruno Ferrari) tenta convencer Conselheiro a procurar Celeste Hermínia. Teodoro pensa em cortejar a fadista. Inácio começa a trabalhar com Geraldo (Jackson Antunes).                         Em Morros Verdes, Maria Vitória sente uma forte tontura e é observada pela governanta. Delfina (Letícia Sabatella) afirma a Tereza (Olivia\\xa0Torres) que ela receberá uma grande quantia para se casar. No Rio, Reinaldo ( Cassio Gabus Mendes)\\xa0insiste para que Lucinda (Andreia Horta) vá para a casa de Emília (François Forton). Geraldo (Jackson Antunes) elogia o trabalho de Inácio. Celeste Hermínia se surpreende com a visita de Teodoro. Em Morros Verdes, Maria Vitória sente-se enjoada e tenta disfarçar seu estado para José Augusto. Delfina descobre que Maria Vitória está grávida.'"
      ]
     },
     "execution_count": 10,
     "metadata": {},
     "output_type": "execute_result"
    }
   ],
   "source": [
    "# check for double spaces, tabs or line breaks\n",
    "cond = folha['text'].apply(lambda x: str(x)).str.contains(r\"  +|\\t+|\\n+\")\n",
    "folha.loc[cond, 'text'].tail(1).values[0]"
   ]
  },
  {
   "cell_type": "code",
   "execution_count": 11,
   "metadata": {},
   "outputs": [
    {
     "data": {
      "text/plain": [
       "'A saga da personagem de Carol Duarte é repleta de grandes acontecimentos: Ivana se descobre trans, encara o processo de readequação de gênero, muda seu nome para Ivan e fica grávido.Desde a revelação da gravidez, na última sexta (29), espectadores passaram a fazer algumas contas para identificar quando ocorreu a fecundação.Desde que Ivan (enquanto ainda era Ivana) transou com Cláudio (Gabriel Stalffer) muitas coisas aconteceram na novela. Internautas calcularam que o tempo transcorrido na trama seja de aproximadamente um ano. \"Ivana grávida depois de séculos que o namorado dela foi embora. Gente, que espermatozóide forte esse\", escreveu uma internauta no Twitter. Gloria Perez explicou que a contagem do tempo é diferente. Em entrevista ao portal \"Extra\", a autora disse que \"em novela uma noite ou um dia podem durar uma semana inteira até\". Depois daquela noite, Cláudio disse que ficaria um ano fora do país e agora o personagem já deve voltar para o folhetim. Então, de fato, quanto tempo se passou?Para Gloria Perez, apenas dois meses. \"Encerrando o assunto de vez: Ivan transou com Cláudio (Gabriel Stalffer) no dia 27 de julho. E virei a página\".ARGUMENTOSNos outros núcleos da novela, no entanto, muita coisa aconteceu nos apenas dois meses defendidos por Gloria. Exemplos: Bibi (Juliana Paes) virou a dona do morro; Rubinho (Emílio Dantas) foi preso duas vezes; Dedé (João Bravo) fez aniversário e ninguém compareceu.Jeiza (Paolla Oliveira) e Zeca (Marco Pigossi) terminaram, brigaram, voltaram e terminaram de novo. Zeca foi preso, voltou com Ritinha (Isis Valverde) e agora disputa com Ruy (Fiuk) a guarda do bebê Ruyzinho.'"
      ]
     },
     "execution_count": 11,
     "metadata": {},
     "output_type": "execute_result"
    }
   ],
   "source": [
    "text = folha.loc[cond, 'text'].tail(10).values[0]\n",
    "test = re.sub(r\"\\s+\", \" \", text)\n",
    "test"
   ]
  },
  {
   "attachments": {},
   "cell_type": "markdown",
   "metadata": {},
   "source": [
    "### 2.3. date"
   ]
  },
  {
   "cell_type": "code",
   "execution_count": 12,
   "metadata": {},
   "outputs": [
    {
     "name": "stdout",
     "output_type": "stream",
     "text": [
      "NaN date rows: 30117\n",
      "% NaN date rows: 5.653364668958022 %\n"
     ]
    }
   ],
   "source": [
    "# NaN data\n",
    "print(f\"NaN date rows: {folha['date'].isna().sum()}\")\n",
    "print(f\"% NaN date rows: {folha['date'].isna().sum() / len(folha) * 100} %\")"
   ]
  },
  {
   "attachments": {},
   "cell_type": "markdown",
   "metadata": {},
   "source": [
    "### 2.4. category"
   ]
  },
  {
   "cell_type": "code",
   "execution_count": 14,
   "metadata": {},
   "outputs": [
    {
     "name": "stdout",
     "output_type": "stream",
     "text": [
      "NaN category rows: 0\n",
      "% NaN category rows: 0.0 \n"
     ]
    }
   ],
   "source": [
    "# NaN categories\n",
    "print(f\"NaN category rows: {folha['category'].isna().sum()}\")\n",
    "print(f\"% NaN category rows: {folha['category'].isna().sum() / len(folha) * 100} \")"
   ]
  },
  {
   "cell_type": "code",
   "execution_count": 15,
   "metadata": {},
   "outputs": [
    {
     "data": {
      "text/plain": [
       "112"
      ]
     },
     "execution_count": 15,
     "metadata": {},
     "output_type": "execute_result"
    }
   ],
   "source": [
    "len(folha['category'].value_counts().sort_values(ascending = False))"
   ]
  },
  {
   "cell_type": "code",
   "execution_count": 16,
   "metadata": {},
   "outputs": [
    {
     "data": {
      "text/plain": [
       "category\n",
       "colunas                                            88528\n",
       "mercado                                            77447\n",
       "poder                                              51463\n",
       "mundo                                              42016\n",
       "cotidiano                                          39639\n",
       "ilustrada                                          38162\n",
       "esporte                                            35389\n",
       "celebridades                                       17627\n",
       "opiniao                                            14228\n",
       "equilibrioesaude                                   11783\n",
       "televisao                                           9774\n",
       "internacional                                       7775\n",
       "paineldoleitor                                      6575\n",
       "sao-paulo                                           6181\n",
       "educacao                                            5088\n",
       "colunistas                                          5047\n",
       "blogs                                               4926\n",
       "saopaulo                                            4875\n",
       "grana                                               4439\n",
       "tec                                                 3997\n",
       "turismo                                             3631\n",
       "ambiente                                            3544\n",
       "ciencia                                             3459\n",
       "ilustrissima                                        3388\n",
       "cinema-e-series                                     2959\n",
       "musica                                              2749\n",
       "voceviu                                             2594\n",
       "tv                                                  2524\n",
       "empreendedorsocial                                  2517\n",
       "sobretudo                                           2380\n",
       "banco-de-dados                                      2165\n",
       "podcasts                                            1559\n",
       "seminariosfolha                                     1496\n",
       "webstories                                          1414\n",
       "comida                                              1379\n",
       "folhinha                                            1341\n",
       "cinema                                              1162\n",
       "equilibrio                                          1010\n",
       "bbc                                                  980\n",
       "ola                                                  962\n",
       "restaurantes                                         884\n",
       "passeios                                             883\n",
       "viva-bem                                             878\n",
       "mpme                                                 785\n",
       "multitela                                            748\n",
       "astrologia                                           707\n",
       "nerdices                                             626\n",
       "bichos                                               620\n",
       "estilo                                               610\n",
       "shows                                                569\n",
       "asmais                                               549\n",
       "hoje                                                 542\n",
       "editorial                                            529\n",
       "o-melhor-de-sao-paulo                                496\n",
       "serafina                                             486\n",
       "teatro                                               436\n",
       "folha-100-anos                                       385\n",
       "diversao                                             347\n",
       "folha-social-mais                                    311\n",
       "crianca                                              268\n",
       "bares                                                252\n",
       "guloseimas                                           247\n",
       "exposicoes                                           187\n",
       "fofices                                              173\n",
       "maquina                                              167\n",
       "topofmind                                            165\n",
       "especial                                             146\n",
       "vice                                                 146\n",
       "bares-e-noite                                        144\n",
       "guia-de-livros-discos-filmes                         143\n",
       "noite                                                142\n",
       "streaming                                            129\n",
       "mural                                                108\n",
       "cenarios                                              61\n",
       "dw                                                    48\n",
       "treinamento                                           46\n",
       "achados-elo                                           45\n",
       "cenarios-2017                                         43\n",
       "fronteiras-do-pensamento                              43\n",
       "42a-mostra-internacional-de-cinema                    43\n",
       "infograficos                                          43\n",
       "concertos                                             38\n",
       "premio-f5                                             32\n",
       "danca                                                 32\n",
       "rfi                                                   29\n",
       "guia-de-livros-filmes-discos                          28\n",
       "games                                                 28\n",
       "multimidia                                            27\n",
       "41a-mostra-de-cinema-internacional-de-sao-paulo       20\n",
       "treinamentocienciaesaude                              18\n",
       "mulher                                                16\n",
       "independencia-200                                     16\n",
       "agrofolha                                             15\n",
       "amp                                                   10\n",
       "dia-da-mulher                                         10\n",
       "noticia                                                8\n",
       "euronews                                               8\n",
       "top5                                                   8\n",
       "41a-mostra-internacional-de-cinema                     6\n",
       "ombudsman                                              6\n",
       "folhateen                                              5\n",
       "consumo-consciente                                     3\n",
       "agora                                                  2\n",
       "contas-de-casa                                         2\n",
       "afp                                                    1\n",
       "2015                                                   1\n",
       "erramos                                                1\n",
       "2016                                                   1\n",
       "personare                                              1\n",
       "deltafolha                                             1\n",
       "carnaval                                               1\n",
       "2022                                                   1\n",
       "Name: count, dtype: int64"
      ]
     },
     "execution_count": 16,
     "metadata": {},
     "output_type": "execute_result"
    }
   ],
   "source": [
    "# number of rows per category\n",
    "folha['category'].value_counts().sort_values(ascending = False)"
   ]
  },
  {
   "cell_type": "code",
   "execution_count": 17,
   "metadata": {},
   "outputs": [
    {
     "name": "stdout",
     "output_type": "stream",
     "text": [
      "http://www1.folha.uol.com.br/colunas/marceloleite/2017/10/1925096-cientista-da-psicodelico-para-minicerebros-e-eles-gostam.shtml\n",
      "https://f5.folha.uol.com.br/colunistas/cristina-padiglione/2023/05/galvao-bueno-nao-tenho-por-que-pedir-desculpas-ao-neymar.shtml\n"
     ]
    }
   ],
   "source": [
    "# colunas x colunistas (seems to be the same thing)\n",
    "print(folha.query(\"category == 'colunas'\").iloc[2, -1])\n",
    "print(folha.query(\"category == 'colunistas'\").iloc[0, -1])"
   ]
  },
  {
   "cell_type": "code",
   "execution_count": 18,
   "metadata": {},
   "outputs": [
    {
     "name": "stdout",
     "output_type": "stream",
     "text": [
      "https://guia.folha.uol.com.br/restaurantes/2023/05/restaurante-quincho-serve-menu-degustacao-apenas-com-sobremesas-em-sp.shtml\n",
      "http://www1.folha.uol.com.br/comida/2017/04/1872819-eleven-madison-park-de-ny-e-eleito-o-melhor-restaurante-do-mundo.shtml\n"
     ]
    }
   ],
   "source": [
    "# restaurantes x comidas (seems to be the same thing)\n",
    "print(folha.query(\"category == 'restaurantes'\").iloc[0, -1])\n",
    "print(folha.query(\"category == 'comida'\").iloc[1, -1])"
   ]
  },
  {
   "cell_type": "code",
   "execution_count": 19,
   "metadata": {},
   "outputs": [
    {
     "name": "stdout",
     "output_type": "stream",
     "text": [
      "https://f5.folha.uol.com.br/cinema-e-series/2023/05/barbie-ganha-novo-trailer-com-mais-detalhes-da-historia-da-boneca-entrando-no-mundo-real.shtml\n",
      "https://guia.folha.uol.com.br/cinema/2023/05/velozes-e-furiosos-10-domina-as-salas-de-cinema-em-sp-que-tem-5-estreias.shtml\n",
      "https://guia.folha.uol.com.br/42a-mostra-internacional-de-cinema/2018/10/central-do-brasil-tem-sessao-com-fernanda-montenegro-na-mostra-confira-outras-dicas-do-dia.shtml\n",
      "https://guia.folha.uol.com.br/41a-mostra-internacional-de-cinema/2017/11/veja-tres-filmes-em-destaque-no-ultimo-dia-da-mostra-de-cinema.shtml\n"
     ]
    }
   ],
   "source": [
    "# cinemas-e-series x cinema x 42a-mostra-internacional-de-cinema x 41a-mostra-internacional-de-cinema (seems to be the same thing)\n",
    "print(folha.query(\"category == 'cinema-e-series'\").iloc[2, -1])\n",
    "print(folha.query(\"category == 'cinema'\").iloc[4, -1])\n",
    "print(folha.query(\"category == '42a-mostra-internacional-de-cinema'\").iloc[0, -1])\n",
    "print(folha.query(\"category == '41a-mostra-internacional-de-cinema'\").iloc[1, -1])"
   ]
  },
  {
   "cell_type": "code",
   "execution_count": 20,
   "metadata": {},
   "outputs": [
    {
     "name": "stdout",
     "output_type": "stream",
     "text": [
      "https://agora.folha.uol.com.br/sao-paulo/2021/11/arvore-de-natal-na-ponte-estaiada-em-sp-sera-inaugurada-neste-sabado-27.shtml\n",
      "http://www1.folha.uol.com.br/saopaulo/2017/10/1922945-padrao-geometrico-conhecido-como-chevron-ajuda-a-dar-movimento-aos-ambientes.shtml\n",
      "http://www1.folha.uol.com.br/o-melhor-de-sao-paulo/2017/casa-e-decoracao/2017/08/1910839-jovens-dedicam-se-a-ceramica-artesanal-e-produzem-pecas-cheias-de-estilo.shtml\n"
     ]
    }
   ],
   "source": [
    "# sao-paulo x saopaulo x o-melhor-de-sao-paulo (seems to be the same thing)\n",
    "print(folha.query(\"category == 'sao-paulo'\").iloc[9, -1])\n",
    "print(folha.query(\"category == 'saopaulo'\").iloc[30, -1])\n",
    "print(folha.query(\"category == 'o-melhor-de-sao-paulo'\").iloc[12, -1])"
   ]
  },
  {
   "attachments": {},
   "cell_type": "markdown",
   "metadata": {},
   "source": [
    "## 3. Clean Dataset"
   ]
  },
  {
   "cell_type": "code",
   "execution_count": 21,
   "metadata": {},
   "outputs": [],
   "source": [
    "folha_filtered = folha.copy()"
   ]
  },
  {
   "cell_type": "code",
   "execution_count": 22,
   "metadata": {},
   "outputs": [],
   "source": [
    "def group_categories(df):\n",
    "    \"\"\"\n",
    "    Group similar categories into one.\n",
    "    \"\"\"\n",
    "    df.loc[df['category'] == 'equilibrioesaude', 'category'] = 'equilibrio'\n",
    "    df.loc[df['category'] == 'tv', 'category'] = 'televisao'\n",
    "    df.loc[df['category'] == 'mundo', 'category'] = 'internacional'\n",
    "    df.loc[df['category'] == 'cinema', 'category'] = 'cinema-e-series'\n",
    "    df.loc[df['category'] == 'equilibrio', 'category'] = 'equilibrio-e-saude'\n",
    "\n",
    "    return df"
   ]
  },
  {
   "cell_type": "code",
   "execution_count": 23,
   "metadata": {},
   "outputs": [],
   "source": [
    "def clean_text(df, column):\n",
    "    \"\"\"\n",
    "    Cleans text column, removing tabs, line breaks, double spaces, unicode and html strings. Removes NaN values.\n",
    "    \"\"\"\n",
    "\n",
    "    # remove NaN values\n",
    "    df.dropna(subset = column, inplace = True)\n",
    "\n",
    "    # remove tabs and line breaks\n",
    "    df[column] = df[column].str.replace(r\"\\t+|\\n+\", \"\")\n",
    "\n",
    "    # remove double spaces and strip\n",
    "    df[column] = df[column].str.strip() \\\n",
    "                        .apply(lambda text: re.sub(r\"\\s+\", \" \", text))\n",
    "\n",
    "    # remove html strings\n",
    "    df[column] = df[column].apply(lambda text: html.unescape(text))\n",
    "\n",
    "    return df"
   ]
  },
  {
   "cell_type": "markdown",
   "metadata": {},
   "source": [
    "### 3.1. Filter categories"
   ]
  },
  {
   "cell_type": "code",
   "execution_count": 24,
   "metadata": {},
   "outputs": [],
   "source": [
    "categories_to_drop = [\n",
    "    \"folhinha\",\n",
    "    \"webstories\",\n",
    "    \"seminariosfolha\",\n",
    "    \"banco-de-dados\",\n",
    "    \"sobretudo\",\n",
    "    \"voceviu\",\n",
    "    \"ilustrissima\",\n",
    "    \"blogs\",\n",
    "    \"colunistas\",\n",
    "    \"sao-paulo\",\n",
    "    \"saopaulo\",\n",
    "    \"paineldoleitor\",\n",
    "    \"opiniao\",\n",
    "    \"ilustrada\",\n",
    "    \"colunas\"\n",
    "]"
   ]
  },
  {
   "cell_type": "code",
   "execution_count": 25,
   "metadata": {},
   "outputs": [
    {
     "data": {
      "text/plain": [
       "array(['mercado', 'poder', 'mundo', 'cotidiano', 'esporte',\n",
       "       'celebridades', 'equilibrioesaude', 'televisao', 'internacional',\n",
       "       'educacao', 'grana', 'tec', 'turismo', 'ambiente', 'ciencia',\n",
       "       'cinema-e-series', 'musica', 'tv', 'empreendedorsocial',\n",
       "       'podcasts', 'comida', 'cinema', 'equilibrio'], dtype=object)"
      ]
     },
     "execution_count": 25,
     "metadata": {},
     "output_type": "execute_result"
    }
   ],
   "source": [
    "aux = pd.DataFrame(folha['category'].value_counts().rename('qtd').sort_values(ascending=False))\n",
    "aux = aux.query(\"qtd > 1000\").reset_index()\n",
    "aux = aux.query(\"~category.isin(@categories_to_drop)\")\n",
    "filtered_categories = aux['category'].unique()\n",
    "filtered_categories"
   ]
  },
  {
   "cell_type": "code",
   "execution_count": 26,
   "metadata": {},
   "outputs": [
    {
     "name": "stdout",
     "output_type": "stream",
     "text": [
      "Before filtering categories: 532727\n",
      "After filtering categories: 332930\n"
     ]
    }
   ],
   "source": [
    "print(f\"Before filtering categories: {len(folha_filtered)}\")\n",
    "folha_filtered = folha_filtered.query(\"category.isin(@filtered_categories)\").copy()\n",
    "print(f\"After filtering categories: {len(folha_filtered)}\")"
   ]
  },
  {
   "cell_type": "markdown",
   "metadata": {},
   "source": [
    "### 3.2. Clean text"
   ]
  },
  {
   "cell_type": "code",
   "execution_count": 27,
   "metadata": {},
   "outputs": [],
   "source": [
    "def clean_dataset(df):\n",
    "    \"\"\"\n",
    "    Pipeline to clean dataset.\n",
    "    \"\"\"\n",
    "    print(f\"Rows in dataset: {len(df)}\")\n",
    "    # cleans title\n",
    "    df = clean_text(df, 'title')\n",
    "    print(f\"Rows in dataset after title cleaning: {len(df)}\")\n",
    "\n",
    "    # cleans text\n",
    "    df = clean_text(df, 'text')\n",
    "    print(f\"Rows in dataset after text cleaning: {len(df)}\")\n",
    "\n",
    "    # group categories\n",
    "    df = group_categories(df)\n",
    "\n",
    "    return df"
   ]
  },
  {
   "cell_type": "code",
   "execution_count": 28,
   "metadata": {},
   "outputs": [
    {
     "name": "stdout",
     "output_type": "stream",
     "text": [
      "Rows in dataset: 332930\n",
      "Rows in dataset after title cleaning: 332930\n",
      "Rows in dataset after text cleaning: 308862\n"
     ]
    }
   ],
   "source": [
    "# clean and export\n",
    "folha_filtered = clean_dataset(folha_filtered)"
   ]
  },
  {
   "cell_type": "markdown",
   "metadata": {},
   "source": [
    "### 3.3. Filter Columns"
   ]
  },
  {
   "cell_type": "code",
   "execution_count": 29,
   "metadata": {},
   "outputs": [
    {
     "data": {
      "text/html": [
       "<div>\n",
       "<style scoped>\n",
       "    .dataframe tbody tr th:only-of-type {\n",
       "        vertical-align: middle;\n",
       "    }\n",
       "\n",
       "    .dataframe tbody tr th {\n",
       "        vertical-align: top;\n",
       "    }\n",
       "\n",
       "    .dataframe thead th {\n",
       "        text-align: right;\n",
       "    }\n",
       "</style>\n",
       "<table border=\"1\" class=\"dataframe\">\n",
       "  <thead>\n",
       "    <tr style=\"text-align: right;\">\n",
       "      <th></th>\n",
       "      <th>title</th>\n",
       "      <th>text</th>\n",
       "      <th>date</th>\n",
       "      <th>category</th>\n",
       "      <th>link</th>\n",
       "    </tr>\n",
       "  </thead>\n",
       "  <tbody>\n",
       "    <tr>\n",
       "      <th>0</th>\n",
       "      <td>Lula diz que está 'lascado', mas que ainda tem...</td>\n",
       "      <td>Com a possibilidade de uma condenação impedir ...</td>\n",
       "      <td>2017-09-10</td>\n",
       "      <td>poder</td>\n",
       "      <td>http://www1.folha.uol.com.br/poder/2017/10/192...</td>\n",
       "    </tr>\n",
       "    <tr>\n",
       "      <th>2</th>\n",
       "      <td>Três reportagens da Folha ganham Prêmio Petrob...</td>\n",
       "      <td>Três reportagens da Folha foram vencedoras do ...</td>\n",
       "      <td>2017-09-10</td>\n",
       "      <td>poder</td>\n",
       "      <td>http://www1.folha.uol.com.br/poder/2017/10/192...</td>\n",
       "    </tr>\n",
       "    <tr>\n",
       "      <th>4</th>\n",
       "      <td>CBSS inicia acordos com fintechs e quer 30% do...</td>\n",
       "      <td>O CBSS, banco da holding Elopar dos sócios Bra...</td>\n",
       "      <td>2017-09-10</td>\n",
       "      <td>mercado</td>\n",
       "      <td>http://www1.folha.uol.com.br/mercado/2017/10/1...</td>\n",
       "    </tr>\n",
       "    <tr>\n",
       "      <th>5</th>\n",
       "      <td>Em encontro, Bono pergunta a Macri sobre argen...</td>\n",
       "      <td>O vocalista da banda irlandesa U2, Bono, fez u...</td>\n",
       "      <td>2017-09-10</td>\n",
       "      <td>internacional</td>\n",
       "      <td>http://www1.folha.uol.com.br/mundo/2017/10/192...</td>\n",
       "    </tr>\n",
       "    <tr>\n",
       "      <th>6</th>\n",
       "      <td>Posso sair do Brasil quando e como quiser, diz...</td>\n",
       "      <td>O italiano Cesare Battisti disse nesta segunda...</td>\n",
       "      <td>2017-09-10</td>\n",
       "      <td>poder</td>\n",
       "      <td>http://www1.folha.uol.com.br/poder/2017/10/192...</td>\n",
       "    </tr>\n",
       "  </tbody>\n",
       "</table>\n",
       "</div>"
      ],
      "text/plain": [
       "                                               title  \\\n",
       "0  Lula diz que está 'lascado', mas que ainda tem...   \n",
       "2  Três reportagens da Folha ganham Prêmio Petrob...   \n",
       "4  CBSS inicia acordos com fintechs e quer 30% do...   \n",
       "5  Em encontro, Bono pergunta a Macri sobre argen...   \n",
       "6  Posso sair do Brasil quando e como quiser, diz...   \n",
       "\n",
       "                                                text        date  \\\n",
       "0  Com a possibilidade de uma condenação impedir ...  2017-09-10   \n",
       "2  Três reportagens da Folha foram vencedoras do ...  2017-09-10   \n",
       "4  O CBSS, banco da holding Elopar dos sócios Bra...  2017-09-10   \n",
       "5  O vocalista da banda irlandesa U2, Bono, fez u...  2017-09-10   \n",
       "6  O italiano Cesare Battisti disse nesta segunda...  2017-09-10   \n",
       "\n",
       "        category                                               link  \n",
       "0          poder  http://www1.folha.uol.com.br/poder/2017/10/192...  \n",
       "2          poder  http://www1.folha.uol.com.br/poder/2017/10/192...  \n",
       "4        mercado  http://www1.folha.uol.com.br/mercado/2017/10/1...  \n",
       "5  internacional  http://www1.folha.uol.com.br/mundo/2017/10/192...  \n",
       "6          poder  http://www1.folha.uol.com.br/poder/2017/10/192...  "
      ]
     },
     "execution_count": 29,
     "metadata": {},
     "output_type": "execute_result"
    }
   ],
   "source": [
    "folha_filtered = folha_filtered.loc[:, [\"title\", \"text\", \"date\", \"category\", \"link\"]]\n",
    "folha_filtered.head()"
   ]
  },
  {
   "cell_type": "markdown",
   "metadata": {},
   "source": [
    "### 3.4. Check changes"
   ]
  },
  {
   "cell_type": "code",
   "execution_count": 30,
   "metadata": {},
   "outputs": [
    {
     "data": {
      "text/html": [
       "<div>\n",
       "<style scoped>\n",
       "    .dataframe tbody tr th:only-of-type {\n",
       "        vertical-align: middle;\n",
       "    }\n",
       "\n",
       "    .dataframe tbody tr th {\n",
       "        vertical-align: top;\n",
       "    }\n",
       "\n",
       "    .dataframe thead th {\n",
       "        text-align: right;\n",
       "    }\n",
       "</style>\n",
       "<table border=\"1\" class=\"dataframe\">\n",
       "  <thead>\n",
       "    <tr style=\"text-align: right;\">\n",
       "      <th></th>\n",
       "      <th>count</th>\n",
       "      <th>proportion</th>\n",
       "    </tr>\n",
       "    <tr>\n",
       "      <th>category</th>\n",
       "      <th></th>\n",
       "      <th></th>\n",
       "    </tr>\n",
       "  </thead>\n",
       "  <tbody>\n",
       "    <tr>\n",
       "      <th>mercado</th>\n",
       "      <td>59022</td>\n",
       "      <td>0.191095</td>\n",
       "    </tr>\n",
       "    <tr>\n",
       "      <th>poder</th>\n",
       "      <td>49976</td>\n",
       "      <td>0.161807</td>\n",
       "    </tr>\n",
       "    <tr>\n",
       "      <th>internacional</th>\n",
       "      <td>48657</td>\n",
       "      <td>0.157536</td>\n",
       "    </tr>\n",
       "    <tr>\n",
       "      <th>cotidiano</th>\n",
       "      <td>38608</td>\n",
       "      <td>0.125001</td>\n",
       "    </tr>\n",
       "    <tr>\n",
       "      <th>esporte</th>\n",
       "      <td>34705</td>\n",
       "      <td>0.112364</td>\n",
       "    </tr>\n",
       "    <tr>\n",
       "      <th>celebridades</th>\n",
       "      <td>17368</td>\n",
       "      <td>0.056232</td>\n",
       "    </tr>\n",
       "    <tr>\n",
       "      <th>equilibrio-e-saude</th>\n",
       "      <td>12681</td>\n",
       "      <td>0.041057</td>\n",
       "    </tr>\n",
       "    <tr>\n",
       "      <th>televisao</th>\n",
       "      <td>12133</td>\n",
       "      <td>0.039283</td>\n",
       "    </tr>\n",
       "    <tr>\n",
       "      <th>educacao</th>\n",
       "      <td>4962</td>\n",
       "      <td>0.016065</td>\n",
       "    </tr>\n",
       "    <tr>\n",
       "      <th>grana</th>\n",
       "      <td>4439</td>\n",
       "      <td>0.014372</td>\n",
       "    </tr>\n",
       "    <tr>\n",
       "      <th>cinema-e-series</th>\n",
       "      <td>4076</td>\n",
       "      <td>0.013197</td>\n",
       "    </tr>\n",
       "    <tr>\n",
       "      <th>tec</th>\n",
       "      <td>3913</td>\n",
       "      <td>0.012669</td>\n",
       "    </tr>\n",
       "    <tr>\n",
       "      <th>ambiente</th>\n",
       "      <td>3482</td>\n",
       "      <td>0.011274</td>\n",
       "    </tr>\n",
       "    <tr>\n",
       "      <th>turismo</th>\n",
       "      <td>3480</td>\n",
       "      <td>0.011267</td>\n",
       "    </tr>\n",
       "    <tr>\n",
       "      <th>ciencia</th>\n",
       "      <td>3358</td>\n",
       "      <td>0.010872</td>\n",
       "    </tr>\n",
       "    <tr>\n",
       "      <th>musica</th>\n",
       "      <td>2716</td>\n",
       "      <td>0.008794</td>\n",
       "    </tr>\n",
       "    <tr>\n",
       "      <th>empreendedorsocial</th>\n",
       "      <td>2350</td>\n",
       "      <td>0.007609</td>\n",
       "    </tr>\n",
       "    <tr>\n",
       "      <th>podcasts</th>\n",
       "      <td>1559</td>\n",
       "      <td>0.005048</td>\n",
       "    </tr>\n",
       "    <tr>\n",
       "      <th>comida</th>\n",
       "      <td>1377</td>\n",
       "      <td>0.004458</td>\n",
       "    </tr>\n",
       "  </tbody>\n",
       "</table>\n",
       "</div>"
      ],
      "text/plain": [
       "                    count  proportion\n",
       "category                             \n",
       "mercado             59022    0.191095\n",
       "poder               49976    0.161807\n",
       "internacional       48657    0.157536\n",
       "cotidiano           38608    0.125001\n",
       "esporte             34705    0.112364\n",
       "celebridades        17368    0.056232\n",
       "equilibrio-e-saude  12681    0.041057\n",
       "televisao           12133    0.039283\n",
       "educacao             4962    0.016065\n",
       "grana                4439    0.014372\n",
       "cinema-e-series      4076    0.013197\n",
       "tec                  3913    0.012669\n",
       "ambiente             3482    0.011274\n",
       "turismo              3480    0.011267\n",
       "ciencia              3358    0.010872\n",
       "musica               2716    0.008794\n",
       "empreendedorsocial   2350    0.007609\n",
       "podcasts             1559    0.005048\n",
       "comida               1377    0.004458"
      ]
     },
     "execution_count": 30,
     "metadata": {},
     "output_type": "execute_result"
    }
   ],
   "source": [
    "qty = folha_filtered['category'].value_counts()\n",
    "pct = folha_filtered['category'].value_counts(normalize = True)\n",
    "qty_pct = pd.DataFrame([qty, pct]).T\n",
    "qty_pct['count'] = qty_pct['count'].astype(int)\n",
    "qty_pct"
   ]
  },
  {
   "cell_type": "markdown",
   "metadata": {},
   "source": [
    "## 4. Export and push to hub"
   ]
  },
  {
   "cell_type": "markdown",
   "metadata": {},
   "source": [
    "### 4.1. Export to CSV (.zip)"
   ]
  },
  {
   "cell_type": "code",
   "execution_count": null,
   "metadata": {},
   "outputs": [],
   "source": [
    "# Export file\n",
    "# filename = 'folha_2015_2023_clean_cats'\n",
    "# print(f\"Exporting file {filename}\")\n",
    "# compression_options = dict(method='zip', archive_name=f'{filename}.csv')\n",
    "# folha_filtered.to_csv(f'../data/{filename}.zip', compression=compression_options, index = False)"
   ]
  },
  {
   "cell_type": "markdown",
   "metadata": {},
   "source": [
    "### 4.2. Export to Hub"
   ]
  },
  {
   "cell_type": "code",
   "execution_count": null,
   "metadata": {},
   "outputs": [],
   "source": [
    "# dataset_folha_final = Dataset.from_pandas(folha_filtered[[\"title\", \"text\", \"date\", \"category\", \"link\"]])\n",
    "# dataset_folha_final = dataset_folha_final.remove_columns(\"__index_level_0__\")"
   ]
  },
  {
   "cell_type": "code",
   "execution_count": null,
   "metadata": {},
   "outputs": [
    {
     "name": "stdout",
     "output_type": "stream",
     "text": [
      "Dataset({\n",
      "    features: ['title', 'text', 'date', 'category', 'link'],\n",
      "    num_rows: 308862\n",
      "})\n"
     ]
    }
   ],
   "source": [
    "# print(dataset_folha_final)"
   ]
  },
  {
   "cell_type": "code",
   "execution_count": null,
   "metadata": {},
   "outputs": [
    {
     "name": "stderr",
     "output_type": "stream",
     "text": [
      "Creating parquet from Arrow format: 100%|██████████| 103/103 [00:03<00:00, 32.96ba/s]\n",
      "Creating parquet from Arrow format: 100%|██████████| 103/103 [00:04<00:00, 22.79ba/s]it]\n",
      "Creating parquet from Arrow format: 100%|██████████| 103/103 [00:03<00:00, 25.93ba/s]it]\n",
      "Pushing dataset shards to the dataset hub: 100%|██████████| 3/3 [02:35<00:00, 51.90s/it]\n"
     ]
    }
   ],
   "source": [
    "# dataset_folha_final.push_to_hub(\"iara-project/news-articles-ptbr-dataset\")"
   ]
  }
 ],
 "metadata": {
  "kernelspec": {
   "display_name": "folha-benchmark",
   "language": "python",
   "name": "python3"
  },
  "language_info": {
   "codemirror_mode": {
    "name": "ipython",
    "version": 3
   },
   "file_extension": ".py",
   "mimetype": "text/x-python",
   "name": "python",
   "nbconvert_exporter": "python",
   "pygments_lexer": "ipython3",
   "version": "3.10.0"
  },
  "orig_nbformat": 4
 },
 "nbformat": 4,
 "nbformat_minor": 2
}
